{
 "cells": [
  {
   "cell_type": "markdown",
   "metadata": {},
   "source": [
    "### Note"
   ]
  },
  {
   "cell_type": "markdown",
   "metadata": {},
   "source": [
    "You may find it easier to do these exercises directly in the notebook. Feel free to insert text with your comments or write your notes as you proceed. The notebook is yours for keeps."
   ]
  },
  {
   "cell_type": "markdown",
   "metadata": {},
   "source": [
    "### List basics"
   ]
  },
  {
   "cell_type": "markdown",
   "metadata": {},
   "source": [
    "Create an empty list [] called ```myList```.\n",
    "* Add the following words using the ``` .append() ``` method:\n",
    "    * \"the\"\n",
    "    * \"quick\"\n",
    "    * \"brown\"\n",
    "    * \"fox\"\n",
    "    * \"jumps\"\n",
    "    * \"over\"\n",
    "* Print the list to check all words are there\n",
    "* Create another list called ```barker``` containing the words \"the\", \"lazy\", \"dog\"\n",
    "* Use the ``` .extend() ``` method to add the ```barker``` list at the end of ```myList```\n",
    "* Print the result\n",
    "* Print the first word of the list\n",
    "* Print the word \"fox\" by indexing\n",
    "* Print the length of the list (use ```len()```) \n",
    "* Print the last word of the list using ```myList[len(myList) - 1]```\n",
    "* Print the last word of the list using ```myList[-1]```\n",
    "* Print the first three words and the last three words\n",
    "* Print the sublist [\"brown\", \"fox\"]\n",
    "* Use ```.remove()``` to delete \"the\"\n",
    "    * use the ```in``` operator to check if \"the\" is still in the list\n",
    "    * inspect the list; call ```.remove()``` again\n",
    "* Use ```.index('lazy')``` to find the index of the word \"lazy\".\n",
    "    * Check the result and store it in variable i\n",
    "* Use ```del myList[i]``` to delete the word \"lazy\"\n",
    "* Use ```.sort()``` to sort the list"
   ]
  },
  {
   "cell_type": "code",
   "execution_count": null,
   "metadata": {},
   "outputs": [],
   "source": []
  },
  {
   "cell_type": "markdown",
   "metadata": {},
   "source": [
    "### List comprehensions"
   ]
  },
  {
   "cell_type": "markdown",
   "metadata": {},
   "source": [
    "Use the function ```range() ``` to create a lists of numbers from 0 till 10. Assign it to variable ```nums```"
   ]
  },
  {
   "cell_type": "code",
   "execution_count": null,
   "metadata": {},
   "outputs": [],
   "source": []
  },
  {
   "cell_type": "markdown",
   "metadata": {},
   "source": [
    "Use a comprehension to create a list of the treble of each number in ```nums```"
   ]
  },
  {
   "cell_type": "code",
   "execution_count": null,
   "metadata": {},
   "outputs": [],
   "source": []
  },
  {
   "cell_type": "markdown",
   "metadata": {},
   "source": [
    "Use your favourite editor to write a program that asks a user for a number between 1 and 10 and prints a list with the multiplication table for that number"
   ]
  },
  {
   "cell_type": "code",
   "execution_count": null,
   "metadata": {},
   "outputs": [],
   "source": []
  },
  {
   "cell_type": "markdown",
   "metadata": {},
   "source": [
    "Write a comprehension to create the list ```[\"#\", \"##\", \"###\",...]``` (up to 10 hashes)"
   ]
  },
  {
   "cell_type": "code",
   "execution_count": null,
   "metadata": {},
   "outputs": [],
   "source": []
  },
  {
   "cell_type": "markdown",
   "metadata": {},
   "source": [
    "Write a list comprehension to compute the squares of all the numbers in ```nums```. Call this ```squares``` "
   ]
  },
  {
   "cell_type": "code",
   "execution_count": null,
   "metadata": {},
   "outputs": [],
   "source": []
  },
  {
   "cell_type": "markdown",
   "metadata": {},
   "source": [
    "A trickier one: create a list that for each x in ```nums``` and y in ```squares``` contains the sentence \"The square of *x* is *y*\". Hint: try printing ```zip(nums, squares)```. Then, ```[ ... for (x,y) in zip(nums, squares)]```"
   ]
  },
  {
   "cell_type": "code",
   "execution_count": null,
   "metadata": {},
   "outputs": [],
   "source": []
  },
  {
   "cell_type": "markdown",
   "metadata": {},
   "source": [
    "### Hunt for Red October"
   ]
  },
  {
   "cell_type": "markdown",
   "metadata": {},
   "source": [
    "A secret message meant for the submarine Red October has been intercepted by your radio officer. Your intelligence team has established that every third character is good, while the rest is noise. However they cannot say if the secret message starts with the first, second or third character of the scrambled text, nor whether the scrambled text has been transcribed in the correct order or in reverse order.\n",
    "\n",
    "* use ```list()``` to convert the scrambled message to a list\n",
    "* index as appropriate to extract every 3rd character (this requires slicing - see the theory notebook)\n",
    "* try starting with second character, or if that doesn't work the third character of the scrambled message\n",
    "* use the ```.reverse()``` list method to reverse the scrambled message\n",
    "* again, try starting from the second and third characters\n",
    "* use ``` ''.join(some_list)``` to convert the lists back to strings for printing\n",
    "\n",
    "Can you do the same without converting the scrambled message to a list? (Hint: there's only one step that breaks down)"
   ]
  },
  {
   "cell_type": "code",
   "execution_count": null,
   "metadata": {},
   "outputs": [],
   "source": [
    "# the scrambled message to Red October\n",
    "scrambled=\"QNTSINUAYGTOTPENAOGCSYDBBLTHRYTOYSWPMWTBESRNAEETBHTNTBGOAPTMNETHMIROCYCGULAYEGEWA\""
   ]
  },
  {
   "cell_type": "markdown",
   "metadata": {},
   "source": [
    "### IATA codes"
   ]
  },
  {
   "cell_type": "markdown",
   "metadata": {},
   "source": [
    "IATA codes are three-letter standard codes that identify airports.\n",
    "\n",
    "* Create an empty dictionary {} called ```iata_codes```\n",
    "* Add the IATA code for a few airports and their names, using codes as keys:\n",
    "    * \"LHR\": \"London Heathrow\"\n",
    "    * \"DOG\": \"Dongola (Sudan)\"\n",
    "    * \"CAT\": \"Cascais (Portugal)\"\n",
    "    * \"GOI\": \"Goa (India)\"\n",
    "    * \"GOA\": \"Genoa (Italy)\"\n",
    "    * ...add your own!\n",
    "* Print the dictionary and notice the order of the elements\n",
    "* Print out the list of ```.keys()```\n",
    "* Print the list of ```.values()```\n",
    "* Print the list of ```.items()```\n",
    "* Use the ```in``` operator to find out if \"CAT\" is a known IATA code\n",
    "* Use ```.pop() ``` to delete key \"DOG\""
   ]
  },
  {
   "cell_type": "code",
   "execution_count": null,
   "metadata": {},
   "outputs": [],
   "source": []
  },
  {
   "cell_type": "markdown",
   "metadata": {},
   "source": [
    "Write a program that asks the user to enter an IATA code and converts it to uppercase (just in case). The program should then print  \"Airport name: \" followed by the name of the airport if the code is in the dictionary, or by \"unknown\" otherwise. Use the ```.get()``` method of Python dictionaries."
   ]
  },
  {
   "cell_type": "code",
   "execution_count": null,
   "metadata": {},
   "outputs": [],
   "source": []
  },
  {
   "cell_type": "markdown",
   "metadata": {},
   "source": [
    "### With complements - take 2"
   ]
  },
  {
   "cell_type": "markdown",
   "metadata": {},
   "source": [
    "The double helix of DNA is made of 2 strands, that latch on to each other like a zipper. Each strand is said to be the \"complement\" of the other (see the picture [here](https://en.wikipedia.org/wiki/DNA_replication)). Given a sequence, the complement is obtained by substituting ```'A'``` for ```'T'```, ```'T'``` for ```'A'```, ```'C'``` for ```'G'``` and ```'G'``` for ```'C'```, so that for instance the complement of ```\"GATTACA\"``` is ```\"CTAATGT\"```.\n",
    "\n",
    "Write a program that takes a DNA sequence as input and outputs its complement.\n",
    "* use ```list()``` to convert the input string to a list\n",
    "* build a dictionary with the complement of each nucleotide\n",
    "* use this dictionary in a list comprehension to generate the list of complements\n",
    "* use ``` ''.join(complement_list) ``` to turn the resulting list into a string"
   ]
  },
  {
   "cell_type": "code",
   "execution_count": null,
   "metadata": {},
   "outputs": [],
   "source": []
  },
  {
   "cell_type": "markdown",
   "metadata": {},
   "source": [
    "### Counting vowels"
   ]
  },
  {
   "cell_type": "markdown",
   "metadata": {},
   "source": [
    "Write a program that counts the relative frequency of vowels in a string. Your program should\n",
    "* ask the user to enter a string\n",
    "* create a dictionary listing the number of time each vowel occurs in that string, such as for instance\n",
    "    ``` {'A': 1, 'E': 4, 'I': 2, 'O': 1, 'U': 2}```\n",
    "  (use the ```str.count``` method)\n",
    "* obtain the total number of vowels in the string (use the ```sum()``` function), and divide the number of occurences of each vowel by the total to get a relative frequency for each vowel\n",
    "* print out the results as a nice table.\n",
    "\n",
    "For instance if the input is ```\"A* Algorithm.\"``` your program should output\n",
    "```\n",
    "A: 0.5\n",
    "E: 0.0\n",
    "I: 0.25\n",
    "O: 0.25\n",
    "U: 0.0\n",
    "```\n",
    "(consonants, punctuation and other symbols are discarded; both lowercase and uppercase vowels count).\n",
    "Once you are satisfied that your program works, add the following line at the top:\n",
    "```\n",
    "from excerpts import *\n",
    "```\n",
    "(this assumes that the excerpts.py file is in the same directory as your program). This will import two excerpts (about 60 lines of text each) from 19th century literary works in English and in Italian, in the variables ```moby_dick``` and ```pinocchio```. Modify your program so that it processes those strings instead of keyboard input and see what you get.\n",
    "\n",
    "(Adapted from [Kasper Munch](https://github.com/kaspermunch))"
   ]
  },
  {
   "cell_type": "code",
   "execution_count": null,
   "metadata": {},
   "outputs": [],
   "source": []
  },
  {
   "cell_type": "markdown",
   "metadata": {},
   "source": [
    "### Going bananas"
   ]
  },
  {
   "cell_type": "markdown",
   "metadata": {},
   "source": [
    "Create a dictionary called ```prices```. Add the following values:\n",
    "```\n",
    "\"banana\": 4,\n",
    "\"apple\": 2,\n",
    "\"orange\": 1.5,\n",
    "\"pear\": 3\n",
    "```\n",
    "\n",
    "Extract the list of prices and use ```sum()``` on that list to get the total price.\n",
    "\n"
   ]
  },
  {
   "cell_type": "code",
   "execution_count": null,
   "metadata": {},
   "outputs": [],
   "source": []
  },
  {
   "cell_type": "markdown",
   "metadata": {},
   "source": [
    "Then create another dictionary called ```stock``` that lists the number of items for each fruit, example\n",
    "```\n",
    "\"banana\": 5,\n",
    "\"apple\": 12,\n",
    "\"orange\": 6,\n",
    "\"pear\": 2\n",
    "```\n",
    "\n",
    "Compute the money you would make by selling all the ```stock``` at the given ```price```.\n",
    "Hint: start by obtaining the list of keys. Then use a list comprehension to multiply the\n",
    "stock by the price for each fruit.\n",
    "\n",
    "(adapted from [Erle Robotics](https://erlerobotics.gitbooks.io/erle-robotics-learning-python-gitbook-free/content/lists/exercises_list_and_dictionaries.html))"
   ]
  },
  {
   "cell_type": "code",
   "execution_count": null,
   "metadata": {},
   "outputs": [],
   "source": []
  },
  {
   "cell_type": "markdown",
   "metadata": {},
   "source": [
    "### Lord of the rings"
   ]
  },
  {
   "cell_type": "markdown",
   "metadata": {},
   "source": [
    "Lists and dictionaries can be listed in arbitary ways. It is very common to find a dictionary with some keys corresponding to lists. Try to do the following exercise (from [Erle Robotics](https://erlerobotics.gitbooks.io/erle-robotics-learning-python-gitbook-free/content/lists/exercises_list_and_dictionaries.html)):\n",
    "\n",
    "Given the following dictionary:\n",
    "```\n",
    "inventory = {\n",
    "    'gold' : 500,\n",
    "    'pouch' : ['flint', 'twine', 'gemstone'],\n",
    "    'backpack' : ['xylophone','dagger', 'bedroll','bread loaf']\n",
    "}\n",
    "```\n",
    "\n",
    "* Add a key to inventory called 'pocket'.\n",
    "* Set the value of 'pocket' to be a list consisting of the strings 'seashell', 'strange berry', and 'lint'.\n",
    "* ```.sort()``` the items in the list stored under the 'backpack' key.\n",
    "* Then ```.remove('dagger')``` from the list of items stored under the 'backpack' key.\n",
    "* Add 50 to the number stored under the 'gold' key.\n"
   ]
  },
  {
   "cell_type": "code",
   "execution_count": null,
   "metadata": {},
   "outputs": [],
   "source": []
  },
  {
   "cell_type": "markdown",
   "metadata": {},
   "source": [
    "### Bella Napoli"
   ]
  },
  {
   "cell_type": "markdown",
   "metadata": {},
   "source": [
    "Create a dictionary called ```toppings```. Add the names of at least three pizzas as keys. Each key should correspond to the list of toppings for that pizza.\n",
    "\n",
    "* Print the dictionary.\n",
    "* Use the ```in``` operator to check if the toppings for ```\"margherita\"``` include ```\"pineapple\"``` (hint: that should return ```False```).\n",
    "* Write a list comprehension to list the names of all pizzas that have a particular topping (eg all pizzas that have olives)."
   ]
  },
  {
   "cell_type": "code",
   "execution_count": null,
   "metadata": {},
   "outputs": [],
   "source": []
  }
 ],
 "metadata": {
  "kernelspec": {
   "display_name": "Python 3",
   "language": "python",
   "name": "python3"
  },
  "language_info": {
   "codemirror_mode": {
    "name": "ipython",
    "version": 3
   },
   "file_extension": ".py",
   "mimetype": "text/x-python",
   "name": "python",
   "nbconvert_exporter": "python",
   "pygments_lexer": "ipython3",
   "version": "3.8.10"
  }
 },
 "nbformat": 4,
 "nbformat_minor": 1
}
