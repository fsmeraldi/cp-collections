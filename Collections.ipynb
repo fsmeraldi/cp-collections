{
 "cells": [
  {
   "cell_type": "markdown",
   "metadata": {},
   "source": [
    "In the previous notebook we had a look at variables. Often, however, we need a convenient way to represent a collection of data (think a series of proteins, all codons that code for an aminoacid, etc). Python offers several very handy built-in types to deal with this. In the following we will learn about *lists*, *tuples* and *dictionaries*."
   ]
  },
  {
   "cell_type": "code",
   "execution_count": null,
   "metadata": {},
   "outputs": [],
   "source": [
    "# run this cell to play back an audio file, type Esc-o to hide player\n",
    "from IPython.display import Audio\n",
    "Audio(\"media/cc-intro.mp3\")"
   ]
  },
  {
   "cell_type": "markdown",
   "metadata": {},
   "source": [
    "# Lists"
   ]
  },
  {
   "cell_type": "markdown",
   "metadata": {},
   "source": [
    "Lists are the workhorse data type in Python, so it's important to understand them well. A list is essentially an ordered collection of items: "
   ]
  },
  {
   "cell_type": "code",
   "execution_count": null,
   "metadata": {},
   "outputs": [],
   "source": [
    "firstlist=[1,2,3,4,5]\n",
    "print(firstlist)"
   ]
  },
  {
   "cell_type": "markdown",
   "metadata": {},
   "source": [
    "Since each value in Python \"knows\" its type, there's no danger in putting together different types of values (however, in general this is better avoided):"
   ]
  },
  {
   "cell_type": "code",
   "execution_count": null,
   "metadata": {},
   "outputs": [],
   "source": [
    "another=[\"Me\",\"You\",\"Them\"]\n",
    "mixandmatch=[\"One\",2,\"Three\",4.0]\n",
    "emptylist=[]\n",
    "print(another, mixandmatch, emptylist)"
   ]
  },
  {
   "cell_type": "code",
   "execution_count": null,
   "metadata": {},
   "outputs": [],
   "source": [
    "# run this cell to show a video, use slider to resize it, type Esc-o to hide it\n",
    "from IPython.display import Video; from ipywidgets import interactive, IntSlider\n",
    "def _play(resize): display(Video(filename=\"media/cc-lists.webm\",data=\"\",width=resize))\n",
    "interactive(_play, resize=IntSlider(min=150, max=900, step=50, value=600, continuous_update=False, readout=False))"
   ]
  },
  {
   "cell_type": "markdown",
   "metadata": {},
   "source": [
    "**NOTE ON EXAMPLES:** Toy examples on strings and lists get boring quickly. For this reason, I am sourcing some of the examples from Bioinformatics, aka the Empire of Strings. These examples reflect meaningful real-world processing and data, however basic. You don't actually need to know any Biology, and if the terminology bothers you, replace any words you don't like with *foo*, *bar*, *spam* and *ham* - for our purposes, they are just strings."
   ]
  },
  {
   "cell_type": "markdown",
   "metadata": {},
   "source": [
    "### Indexing"
   ]
  },
  {
   "cell_type": "markdown",
   "metadata": {},
   "source": [
    "You can access individual elements of the list by *indexing*. This is done with the ```[]``` operator:"
   ]
  },
  {
   "cell_type": "code",
   "execution_count": null,
   "metadata": {},
   "outputs": [],
   "source": [
    "# the Alanine molecule has 4 possible representations in the genome - all of them 3 letter strings\n",
    "ala=['GCU', 'GCC', 'GCA', 'GCG'] # codons for Alanine\n",
    "print(\"Length \", len(ala))\n",
    "print(ala[0]) # the first element\n",
    "print(ala[3]) # the last element"
   ]
  },
  {
   "cell_type": "markdown",
   "metadata": {},
   "source": [
    "Incidentally, the [] operator also works for strings:"
   ]
  },
  {
   "cell_type": "code",
   "execution_count": null,
   "metadata": {},
   "outputs": [],
   "source": [
    "'GCU'[1]"
   ]
  },
  {
   "cell_type": "markdown",
   "metadata": {},
   "source": [
    "so that this is valid code:"
   ]
  },
  {
   "cell_type": "code",
   "execution_count": null,
   "metadata": {},
   "outputs": [],
   "source": [
    "ala=['GCU', 'GCC', 'GCA', 'GCG']\n",
    "print(ala[0][2]) # third character of the first element of the list"
   ]
  },
  {
   "cell_type": "markdown",
   "metadata": {},
   "source": [
    "A few other handy tricks:"
   ]
  },
  {
   "cell_type": "code",
   "execution_count": null,
   "metadata": {},
   "outputs": [],
   "source": [
    "mylist=['a','b','c','d']\n",
    "print(mylist[-1])  # last element\n",
    "print(mylist[-2])  # second last\n",
    "print(mylist[1:3]) # from element 1 included to 3 excluded"
   ]
  },
  {
   "cell_type": "markdown",
   "metadata": {},
   "source": [
    "You can, of course, use indexing to modify lists:"
   ]
  },
  {
   "cell_type": "code",
   "execution_count": null,
   "metadata": {},
   "outputs": [],
   "source": [
    "mylist=['a','b','c','d','e','f']\n",
    "mylist[-1]='z'\n",
    "mylist[0]=mylist[1]\n",
    "mylist[2:4]=['Wah','Wah']\n",
    "print(mylist)"
   ]
  },
  {
   "cell_type": "code",
   "execution_count": null,
   "metadata": {},
   "outputs": [],
   "source": [
    "# run this cell to show a video, use slider to resize it, type Esc-o to hide it\n",
    "from IPython.display import Video; from ipywidgets import interactive, IntSlider\n",
    "def _play(resize): display(Video(filename=\"media/cc-indexing.webm\",data=\"\",width=resize))\n",
    "interactive(_play, resize=IntSlider(min=150, max=900, step=50, value=600, continuous_update=False, readout=False))"
   ]
  },
  {
   "cell_type": "markdown",
   "metadata": {},
   "source": [
    "### Operations on lists"
   ]
  },
  {
   "cell_type": "markdown",
   "metadata": {},
   "source": [
    "The ```dir``` command gives you a handy way to list operations defined for a type (really methods defined for an object). Disregard the entries beginning and ending with ```__``` that have to do with the internal representation of the object. Let's try this on a list:"
   ]
  },
  {
   "cell_type": "code",
   "execution_count": null,
   "metadata": {},
   "outputs": [],
   "source": [
    "dir([])"
   ]
  },
  {
   "cell_type": "markdown",
   "metadata": {},
   "source": [
    "```append``` and ```pop``` attach or remove an element from the \"tail\" of the list. They can be used to implement a LIFO (last in first out) queue, also known as a stack."
   ]
  },
  {
   "cell_type": "code",
   "execution_count": null,
   "metadata": {},
   "outputs": [],
   "source": [
    "queue=['Last', 'In', 'First']\n",
    "queue.append('Out')\n",
    "print(queue)\n",
    "print(queue.pop())\n",
    "print(queue)"
   ]
  },
  {
   "cell_type": "markdown",
   "metadata": {},
   "source": [
    "To concatenate two lists, use ```extend```"
   ]
  },
  {
   "cell_type": "code",
   "execution_count": null,
   "metadata": {},
   "outputs": [],
   "source": [
    "queue.extend(['Second', 'Third'])\n",
    "print(queue)"
   ]
  },
  {
   "cell_type": "code",
   "execution_count": null,
   "metadata": {},
   "outputs": [],
   "source": [
    "queue.remove('In') # just guess\n",
    "print(queue)"
   ]
  },
  {
   "cell_type": "code",
   "execution_count": null,
   "metadata": {},
   "outputs": [],
   "source": [
    "queue.reverse()\n",
    "print(queue)"
   ]
  },
  {
   "cell_type": "code",
   "execution_count": null,
   "metadata": {},
   "outputs": [],
   "source": [
    "queue.sort()\n",
    "print(queue)"
   ]
  },
  {
   "cell_type": "code",
   "execution_count": null,
   "metadata": {},
   "outputs": [],
   "source": [
    "queue.clear() # remove all items\n",
    "print(queue)"
   ]
  },
  {
   "cell_type": "markdown",
   "metadata": {},
   "source": [
    "Note that strings are sorted in alphabetical order. More details on sorting available [here](https://wiki.python.org/moin/HowTo/Sorting)"
   ]
  },
  {
   "cell_type": "code",
   "execution_count": null,
   "metadata": {},
   "outputs": [],
   "source": [
    "# run this cell to show a video, use slider to resize it, type Esc-o to hide it\n",
    "from IPython.display import Video; from ipywidgets import interactive, IntSlider\n",
    "def _play(resize): display(Video(filename=\"media/cc-listmethods.webm\",data=\"\",width=resize))\n",
    "interactive(_play, resize=IntSlider(min=150, max=900, step=50, value=600, continuous_update=False, readout=False))"
   ]
  },
  {
   "cell_type": "markdown",
   "metadata": {},
   "source": [
    "### Lists comprehensions"
   ]
  },
  {
   "cell_type": "markdown",
   "metadata": {},
   "source": [
    "There is a handy way of defining lists in Python starting from other lists. This is similar to what is done with sets in mathematics. Consider the following set: $A=\\{1,2,3,4,5\\}$. You can define $B=\\{3x | x\\in A\\}$ (read 3 times x for x in A), which explicitly means  $B=\\{3,6,9,12,15\\}$. The same is possible with Python lists:"
   ]
  },
  {
   "cell_type": "code",
   "execution_count": null,
   "metadata": {},
   "outputs": [],
   "source": [
    "A=range(1,6)\n",
    "print(list(A))\n",
    "B=[3*x for x in A]\n",
    "print(B)"
   ]
  },
  {
   "cell_type": "markdown",
   "metadata": {},
   "source": [
    "We can also use conditionals in comprehensions to pick elements that satisfy a particular property (we will cover conditionals in detail later on):"
   ]
  },
  {
   "cell_type": "code",
   "execution_count": null,
   "metadata": {},
   "outputs": [],
   "source": [
    "even=[x for x in A if x%2==0]\n",
    "odd=[x for x in A if x not in even] #  \"not in\" is a Python operator in its own right\n",
    "# also: odd=[x for x in A if not (x in even)]\n",
    "print(even)\n",
    "print(odd)"
   ]
  },
  {
   "cell_type": "markdown",
   "metadata": {},
   "source": [
    "This can be used to operate on all elements of a list:"
   ]
  },
  {
   "cell_type": "code",
   "execution_count": null,
   "metadata": {},
   "outputs": [],
   "source": [
    "# the Leucine molecule has 6 possible representations in RNA - and the same in DNA, if we exchange the Us with Ts\n",
    "leu=['UUA','UUG','CUU','CUC','CUA','CUG']\n",
    "leu_DNA=[x.replace('U','T') for x in leu]\n",
    "print(leu_DNA)"
   ]
  },
  {
   "cell_type": "code",
   "execution_count": null,
   "metadata": {},
   "outputs": [],
   "source": [
    "# run this cell to show a video, use slider to resize it, type Esc-o to hide it\n",
    "from IPython.display import Video; from ipywidgets import interactive, IntSlider\n",
    "def _play(resize): display(Video(filename=\"media/cc-comprehensions.webm\",data=\"\",width=resize))\n",
    "interactive(_play, resize=IntSlider(min=150, max=900, step=50, value=600, continuous_update=False, readout=False))"
   ]
  },
  {
   "cell_type": "markdown",
   "metadata": {},
   "source": [
    "### A common pitfall"
   ]
  },
  {
   "cell_type": "markdown",
   "metadata": {},
   "source": [
    "Be warned that the name of a list is just a reference to a memory area where the list elements are stored. Thus a copy of a list creates another way of accessing the same list containing the exact same objects, not different list or different objects. This makes the copy operation very efficient, but it can lead to some surprises:"
   ]
  },
  {
   "cell_type": "code",
   "execution_count": null,
   "metadata": {},
   "outputs": [],
   "source": [
    "a=['We', 'Are', 'All', 'Unique']\n",
    "b=a\n",
    "print(b)\n",
    "b.insert(2,'Not')\n",
    "print(b)\n",
    "print(a) # Ops! a has been modified too"
   ]
  },
  {
   "cell_type": "markdown",
   "metadata": {},
   "source": [
    "If you do want to copy all elements one by one, you can use indexing to enumerate all the elements of list *a* and assign the resulting ~~sub~~list to list *b*:"
   ]
  },
  {
   "cell_type": "code",
   "execution_count": null,
   "metadata": {},
   "outputs": [],
   "source": [
    "a=['This', 'Is', 'All']\n",
    "b=a[:] # this makes all the difference\n",
    "b[1]=\"Isn't\" # have to use double quotes since string contains a single quote\n",
    "print (a)\n",
    "print (b)"
   ]
  },
  {
   "cell_type": "code",
   "execution_count": null,
   "metadata": {},
   "outputs": [],
   "source": [
    "# run this cell to show a video, use slider to resize it, type Esc-o to hide it\n",
    "from IPython.display import Video; from ipywidgets import interactive, IntSlider\n",
    "def _play(resize): display(Video(filename=\"media/cc-references.webm\",data=\"\",width=resize))\n",
    "interactive(_play, resize=IntSlider(min=150, max=900, step=50, value=600, continuous_update=False, readout=False))"
   ]
  },
  {
   "cell_type": "markdown",
   "metadata": {},
   "source": [
    "# Tuples"
   ]
  },
  {
   "cell_type": "markdown",
   "metadata": {},
   "source": [
    "Tuples are immutable lists. They are more efficient than lists and can be used as keys for dictionaries (see below); with the obvious modificatios, they can be used like lists."
   ]
  },
  {
   "cell_type": "code",
   "execution_count": null,
   "metadata": {},
   "outputs": [],
   "source": [
    "# DNA chains are made up of 4 molecular \"links\" known as A, T, C, G\n",
    "nucleotides=('A','T','C','G') # we are unlikely to change this\n",
    "print (nucleotides[2])\n",
    "print (nucleotides.index('G'))\n",
    "nucleotides[0]='Spam' # hmmm..."
   ]
  },
  {
   "cell_type": "markdown",
   "metadata": {},
   "source": [
    "Notice that methods to change the elements are missing"
   ]
  },
  {
   "cell_type": "code",
   "execution_count": null,
   "metadata": {},
   "outputs": [],
   "source": [
    "dir(()) # () obviously is... the empty tuple!"
   ]
  },
  {
   "cell_type": "markdown",
   "metadata": {},
   "source": [
    "This is slightly tricky:"
   ]
  },
  {
   "cell_type": "code",
   "execution_count": null,
   "metadata": {},
   "outputs": [],
   "source": [
    "a=(1,2,3)\n",
    "b=a # b is the same tuple as a (same as with lists)\n",
    "a=a+(4,5) # creates a new tuple, does not change a\n",
    "print(a) # a is an entirely new tuple!\n",
    "print(b) # b is still the same"
   ]
  },
  {
   "cell_type": "markdown",
   "metadata": {},
   "source": [
    "In this example we are not changing the tuple, we are actually creating the new tuple (1,2,3,4,5) and assigning it to *a* instead than the old one"
   ]
  },
  {
   "cell_type": "code",
   "execution_count": null,
   "metadata": {},
   "outputs": [],
   "source": [
    "# run this cell to show a video, use slider to resize it, type Esc-o to hide it\n",
    "from IPython.display import Video; from ipywidgets import interactive, IntSlider\n",
    "def _play(resize): display(Video(filename=\"media/cc-tuples.webm\",data=\"\",width=resize))\n",
    "interactive(_play, resize=IntSlider(min=150, max=900, step=50, value=600, continuous_update=False, readout=False))"
   ]
  },
  {
   "cell_type": "markdown",
   "metadata": {},
   "source": [
    "# Dictionaries"
   ]
  },
  {
   "cell_type": "markdown",
   "metadata": {},
   "source": [
    "You can think of lists and tuples as a series of variables indexed by an integer. Dictionaries are series of variables indexed by an arbitrary object, typically (but by all means not always) a string:"
   ]
  },
  {
   "cell_type": "code",
   "execution_count": null,
   "metadata": {},
   "outputs": [],
   "source": [
    "# Aminoacids, the building block of proteins, are represented by three-letter symbols. \n",
    "# this dictionary implements an (incomplete) look-up table for the full name\n",
    "aminoas={'Ala':'Alanine', 'Cys': 'Cysteine', 'Pro': 'Proline', 'Leu': 'Leucine'}\n",
    "print(aminoas['Leu'])\n",
    "aminoas['His']='Histidine'\n",
    "print(aminoas)"
   ]
  },
  {
   "cell_type": "markdown",
   "metadata": {},
   "source": [
    "You can add items one by one to an empty dictionary {}:"
   ]
  },
  {
   "cell_type": "code",
   "execution_count": null,
   "metadata": {},
   "outputs": [],
   "source": [
    "emptydic={}\n",
    "print(len(emptydic))\n",
    "emptydic['Foo']='Bar'\n",
    "print(len(emptydic))"
   ]
  },
  {
   "cell_type": "code",
   "execution_count": null,
   "metadata": {},
   "outputs": [],
   "source": [
    "# run this cell to show a video, use slider to resize it, type Esc-o to hide it\n",
    "from IPython.display import Video; from ipywidgets import interactive, IntSlider\n",
    "def _play(resize): display(Video(filename=\"media/cc-dictionaries.webm\",data=\"\",width=resize))\n",
    "interactive(_play, resize=IntSlider(min=150, max=900, step=50, value=600, continuous_update=False, readout=False))"
   ]
  },
  {
   "cell_type": "markdown",
   "metadata": {},
   "source": [
    "**UPDATE:** The language keeps evolving, and as of Python 3.6 a new implementation of ```dict``` was introduced that is more efficient, and also stores the keys in *insertion order*. Since version 3.7, this has become part of the standard, so printing a dictionary or extracting its keys (see below) will return the keys in the order they were inserted."
   ]
  },
  {
   "cell_type": "markdown",
   "metadata": {},
   "source": [
    "### Keys and values"
   ]
  },
  {
   "cell_type": "markdown",
   "metadata": {},
   "source": [
    "You can display the keys and values contained in a dictionary using the corresponding methods:"
   ]
  },
  {
   "cell_type": "code",
   "execution_count": null,
   "metadata": {},
   "outputs": [],
   "source": [
    "print(aminoas.keys())\n",
    "print(aminoas.values())"
   ]
  },
  {
   "cell_type": "markdown",
   "metadata": {},
   "source": [
    "Or you can have them all together:"
   ]
  },
  {
   "cell_type": "code",
   "execution_count": null,
   "metadata": {},
   "outputs": [],
   "source": [
    "aminoas.items()"
   ]
  },
  {
   "cell_type": "markdown",
   "metadata": {},
   "source": [
    "Trying to look up an unexisting key can led to an error:"
   ]
  },
  {
   "cell_type": "code",
   "execution_count": null,
   "metadata": {},
   "outputs": [],
   "source": [
    "aminoas['Ser']"
   ]
  },
  {
   "cell_type": "markdown",
   "metadata": {},
   "source": [
    "So it may be better to check (this is a conditional expression, more on this later):"
   ]
  },
  {
   "cell_type": "code",
   "execution_count": null,
   "metadata": {},
   "outputs": [],
   "source": [
    "'Ala' in aminoas"
   ]
  },
  {
   "cell_type": "markdown",
   "metadata": {},
   "source": [
    "Or you can play it safe:"
   ]
  },
  {
   "cell_type": "code",
   "execution_count": null,
   "metadata": {},
   "outputs": [],
   "source": [
    "print(aminoas.get('Ala','Oops...'))\n",
    "print(aminoas.get('Ser','Oops...'))"
   ]
  },
  {
   "cell_type": "markdown",
   "metadata": {},
   "source": [
    "You can use ```del``` to delete items (or you can ```pop``` the dictionary, which returns the deleted item):"
   ]
  },
  {
   "cell_type": "code",
   "execution_count": null,
   "metadata": {},
   "outputs": [],
   "source": [
    "del aminoas['Ala']\n",
    "print(aminoas.pop('Pro'))\n",
    "aminoas"
   ]
  },
  {
   "cell_type": "markdown",
   "metadata": {},
   "source": [
    "We can ```update``` a dictionary with values from another:"
   ]
  },
  {
   "cell_type": "code",
   "execution_count": null,
   "metadata": {},
   "outputs": [],
   "source": [
    "more=dict(Ala='Alanine',Pro='Proline') # another way to construct a dictionary\n",
    "print(more)\n",
    "aminoas.update(more)\n",
    "print(aminoas)"
   ]
  },
  {
   "cell_type": "code",
   "execution_count": null,
   "metadata": {},
   "outputs": [],
   "source": [
    "# run this cell to show a video, use slider to resize it, type Esc-o to hide it\n",
    "from IPython.display import Video; from ipywidgets import interactive, IntSlider\n",
    "def _play(resize): display(Video(filename=\"media/cc-dictmethods.webm\",data=\"\",width=resize))\n",
    "interactive(_play, resize=IntSlider(min=150, max=900, step=50, value=600, continuous_update=False, readout=False))"
   ]
  },
  {
   "cell_type": "markdown",
   "metadata": {},
   "source": [
    "And finally, let's turn this around - let's try to use the names as keys, and the three-letter codes as values:"
   ]
  },
  {
   "cell_type": "code",
   "execution_count": null,
   "metadata": {},
   "outputs": [],
   "source": [
    "k=aminoas.keys()\n",
    "v=aminoas.values()\n",
    "# zip is a useful function - it pairs up the elements of two lists\n",
    "l=list(zip(v,k)) \n",
    "print(v)\n",
    "print(k)\n",
    "print(l) # the output of zip\n",
    "symbol=dict(l)\n",
    "print(symbol)\n",
    "print(symbol['Cysteine'])"
   ]
  },
  {
   "cell_type": "markdown",
   "metadata": {},
   "source": [
    "Note that turning a dictionary on its head in this way is not normally possible, as two or more keys may have the same value (meaning you cannot in general use the values as keys) - nor is it necessarily useful, but it's a good exercise nevertheless!"
   ]
  },
  {
   "cell_type": "code",
   "execution_count": null,
   "metadata": {},
   "outputs": [],
   "source": [
    "# run this cell to show a video, use slider to resize it, type Esc-o to hide it\n",
    "from IPython.display import Video; from ipywidgets import interactive, IntSlider\n",
    "def _play(resize): display(Video(filename=\"media/cc-zip.webm\",data=\"\",width=resize))\n",
    "interactive(_play, resize=IntSlider(min=150, max=900, step=50, value=600, continuous_update=False, readout=False))"
   ]
  },
  {
   "cell_type": "markdown",
   "metadata": {},
   "source": [
    "### Dict comprehensions\n",
    "\n",
    "Removing printouts and intermediate variables, the above solution isn't that verbose:"
   ]
  },
  {
   "cell_type": "code",
   "execution_count": null,
   "metadata": {},
   "outputs": [],
   "source": [
    "symbol=dict(zip(aminoas.values(), aminoas.keys()))\n",
    "print (symbol)"
   ]
  },
  {
   "cell_type": "markdown",
   "metadata": {},
   "source": [
    "however, there is a more elegant way of doing it, by using a **dictionary comprehension**. From the [documentation](https://www.python.org/dev/peps/pep-0274/), \"Dict comprehensions are just like list comprehensions, except that you group the expression using curly braces instead of square braces. Also, the left part before the ```for``` keyword expresses both a key and a value, separated by a colon. The notation is specifically designed to remind you of list comprehensions as applied to dictionaries.\" In our case, this what the required comprehension would look like:"
   ]
  },
  {
   "cell_type": "code",
   "execution_count": null,
   "metadata": {},
   "outputs": [],
   "source": [
    "# note the { } instead of [ ] and the : sign\n",
    "symbol={ v:k for k,v in aminoas.items() }\n",
    "print(symbol)"
   ]
  },
  {
   "cell_type": "markdown",
   "metadata": {},
   "source": [
    "the analogy with list comprehensions is evident. You can find a collection of increasingly intricate examples [here](https://towardsdatascience.com/10-examples-to-master-python-dictionary-comprehensions-7aaa536f5960) - you may want to try running and editing them in order to make sense of them."
   ]
  },
  {
   "cell_type": "markdown",
   "metadata": {},
   "source": [
    "**(C) 2014,2020 Fabrizio Smeraldi** ([f.smeraldi@qmul.ac.uk](mailto:f.smeraldi@qmul.ac.uk) - [web](http://www.eecs.qmul.ac.uk/~fabri/)), all rights reserved. In: \"Computer Programming\", School of Electronic Engineering and Computer Science, Queen Mary University of London."
   ]
  }
 ],
 "metadata": {
  "kernelspec": {
   "display_name": "Python 3",
   "language": "python",
   "name": "python3"
  },
  "language_info": {
   "codemirror_mode": {
    "name": "ipython",
    "version": 3
   },
   "file_extension": ".py",
   "mimetype": "text/x-python",
   "name": "python",
   "nbconvert_exporter": "python",
   "pygments_lexer": "ipython3",
   "version": "3.8.10"
  }
 },
 "nbformat": 4,
 "nbformat_minor": 1
}
